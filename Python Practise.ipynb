{
  "nbformat": 4,
  "nbformat_minor": 0,
  "metadata": {
    "colab": {
      "name": "Python Practise.ipynb",
      "version": "0.3.2",
      "views": {},
      "default_view": {},
      "provenance": [],
      "collapsed_sections": []
    },
    "kernelspec": {
      "name": "python3",
      "display_name": "Python 3"
    }
  },
  "cells": [
    {
      "metadata": {
        "id": "uHB2NuUyJIxg",
        "colab_type": "code",
        "colab": {
          "autoexec": {
            "startup": false,
            "wait_interval": 0
          }
        }
      },
      "source": [
        "# This is the data structure of ListNode.\n",
        "class ListNode:\n",
        "  # val\n",
        "  # val2\n",
        "  # ...\n",
        "  # val200\n",
        "  \n",
        "  def __init__(self,val,Next = None):\n",
        "    self.val = val\n",
        "    self.next = Next\n",
        "        \n",
        "# Now we have a linked list \"l\", implement function \"remove_duplicate(node)\" to\n",
        "# remove duplicate nodes within \"l\"."
      ],
      "cell_type": "code",
      "execution_count": 0,
      "outputs": []
    },
    {
      "metadata": {
        "id": "HsMI4idEKpMc",
        "colab_type": "text"
      },
      "source": [
        "* If you remove an item in linked list, the list itself changed.\n",
        "* So the function doesn't return anything.\n",
        "* Assume, we keep first occurance of every value.\n",
        "  * Give linked list: 3 -> 2 -> 5 -> 2 -> 4 -> 5 -> 7\n",
        "  * After calling remove_duplicate(node)\n",
        "  * 3 -> 2 -> 5 -> 4 -> 7"
      ],
      "cell_type": "markdown"
    },
    {
      "metadata": {
        "id": "OGsZUsr6KLl-",
        "colab_type": "code",
        "colab": {
          "autoexec": {
            "startup": false,
            "wait_interval": 0
          }
        }
      },
      "source": [
        "def remove_duplicate(head): \n",
        "    if not head:  # head is None, head = \"\", head = 0, head = []\n",
        "      return\n",
        "    \n",
        "    cur_pos = head\n",
        "    while cur_pos and cur_pos.next:\n",
        "      looking = cur_pos.next  \n",
        "      while looking.next:\n",
        "        if looking.next.val == cur_pos.val: \n",
        "          looking.next = looking.next.next\n",
        "        else:\n",
        "          looking = looking.next\n",
        "      cur_pos = cur_pos.next\n"
      ],
      "cell_type": "code",
      "execution_count": 0,
      "outputs": []
    },
    {
      "metadata": {
        "id": "qBFWssy5OftF",
        "colab_type": "text"
      },
      "source": [
        "Linked list has $n$ items.\n",
        "\n",
        "First `while` loop go through every $n$.\n",
        "\n",
        "Second `while` loop go through every $n$.\n",
        "\n",
        "Time complexity is $O(n^2)$."
      ],
      "cell_type": "markdown"
    },
    {
      "metadata": {
        "id": "qLffknK_NO8S",
        "colab_type": "code",
        "colab": {
          "autoexec": {
            "startup": false,
            "wait_interval": 0
          },
          "output_extras": [
            {
              "item_id": 1
            }
          ],
          "base_uri": "https://localhost:8080/",
          "height": 392
        },
        "outputId": "60f3ed8d-87cc-4c74-a98e-be0be0f0172d",
        "executionInfo": {
          "status": "ok",
          "timestamp": 1513744852118,
          "user_tz": 480,
          "elapsed": 311,
          "user": {
            "displayName": "Gates Wang",
            "photoUrl": "//lh3.googleusercontent.com/-KJIi3nG-HfM/AAAAAAAAAAI/AAAAAAAABUA/fwKObPJyTcU/s50-c-k-no/photo.jpg",
            "userId": "101570225592032648825"
          }
        }
      },
      "source": [
        "a = ListNode(5)\n",
        "cur = a\n",
        "for i in range(10):\n",
        "  cur.next = ListNode(i)\n",
        "  cur = cur.next\n",
        "\n",
        "cur = a\n",
        "while cur:\n",
        "  print(cur.val, \" -> \")\n",
        "  cur = cur.next\n",
        "\n",
        "remove_duplicate(a)\n",
        "\n",
        "print(\"=======================\")\n",
        "cur = a\n",
        "while cur:\n",
        "  print(cur.val, \" -> \")\n",
        "  cur = cur.next"
      ],
      "cell_type": "code",
      "execution_count": 14,
      "outputs": [
        {
          "output_type": "stream",
          "text": [
            "5  -> \n",
            "0  -> \n",
            "1  -> \n",
            "2  -> \n",
            "3  -> \n",
            "4  -> \n",
            "5  -> \n",
            "6  -> \n",
            "7  -> \n",
            "8  -> \n",
            "9  -> \n",
            "=======================\n",
            "5  -> \n",
            "0  -> \n",
            "1  -> \n",
            "2  -> \n",
            "3  -> \n",
            "4  -> \n",
            "6  -> \n",
            "7  -> \n",
            "8  -> \n",
            "9  -> \n"
          ],
          "name": "stdout"
        }
      ]
    },
    {
      "metadata": {
        "id": "B8g9unBXPBLB",
        "colab_type": "code",
        "colab": {
          "autoexec": {
            "startup": false,
            "wait_interval": 0
          },
          "output_extras": [
            {
              "item_id": 1
            }
          ],
          "base_uri": "https://localhost:8080/",
          "height": 35
        },
        "outputId": "2d43da20-4113-479e-e97c-2bf17eea800c",
        "executionInfo": {
          "status": "ok",
          "timestamp": 1513745169128,
          "user_tz": 480,
          "elapsed": 289,
          "user": {
            "displayName": "Gates Wang",
            "photoUrl": "//lh3.googleusercontent.com/-KJIi3nG-HfM/AAAAAAAAAAI/AAAAAAAABUA/fwKObPJyTcU/s50-c-k-no/photo.jpg",
            "userId": "101570225592032648825"
          }
        }
      },
      "source": [
        "s = set([1,2,3,4,5,4,3,2,3,4,5,6,7,8])\n",
        "print(s)"
      ],
      "cell_type": "code",
      "execution_count": 15,
      "outputs": [
        {
          "output_type": "stream",
          "text": [
            "{1, 2, 3, 4, 5, 6, 7, 8}\n"
          ],
          "name": "stdout"
        }
      ]
    },
    {
      "metadata": {
        "id": "IpeCfmM2PnGE",
        "colab_type": "code",
        "colab": {
          "autoexec": {
            "startup": false,
            "wait_interval": 0
          },
          "output_extras": [
            {
              "item_id": 1
            },
            {
              "item_id": 2
            }
          ],
          "base_uri": "https://localhost:8080/",
          "height": 217
        },
        "outputId": "60b9a67f-5e0c-47c0-b992-4954b413c0d5",
        "executionInfo": {
          "status": "error",
          "timestamp": 1513746076317,
          "user_tz": 480,
          "elapsed": 305,
          "user": {
            "displayName": "Gates Wang",
            "photoUrl": "//lh3.googleusercontent.com/-KJIi3nG-HfM/AAAAAAAAAAI/AAAAAAAABUA/fwKObPJyTcU/s50-c-k-no/photo.jpg",
            "userId": "101570225592032648825"
          }
        }
      },
      "source": [
        "b = ListNode(3)\n",
        "a = ListNode(4, b)\n",
        "c = None\n",
        "\n",
        "if a and a.next:\n",
        "  print(\"AAAAAA\")\n",
        "  \n",
        "if b and b.next:\n",
        "  print(\"BBBBBB\")\n",
        "  \n",
        "if c and c.next:\n",
        "  print(\"CCCCCC\")\n"
      ],
      "cell_type": "code",
      "execution_count": 26,
      "outputs": [
        {
          "output_type": "stream",
          "text": [
            "AAAAAA\n"
          ],
          "name": "stdout"
        },
        {
          "output_type": "error",
          "ename": "AttributeError",
          "evalue": "ignored",
          "traceback": [
            "\u001b[0;31m---------------------------------------------------------------------------\u001b[0m",
            "\u001b[0;31mAttributeError\u001b[0m                            Traceback (most recent call last)",
            "\u001b[0;32m<ipython-input-26-0570735d6233>\u001b[0m in \u001b[0;36m<module>\u001b[0;34m()\u001b[0m\n\u001b[1;32m     12\u001b[0m   \u001b[0mprint\u001b[0m\u001b[0;34m(\u001b[0m\u001b[0;34m\"CCCCCC\"\u001b[0m\u001b[0;34m)\u001b[0m\u001b[0;34m\u001b[0m\u001b[0m\n\u001b[1;32m     13\u001b[0m \u001b[0;34m\u001b[0m\u001b[0m\n\u001b[0;32m---> 14\u001b[0;31m \u001b[0mc\u001b[0m\u001b[0;34m.\u001b[0m\u001b[0mnext\u001b[0m\u001b[0;34m\u001b[0m\u001b[0m\n\u001b[0m",
            "\u001b[0;31mAttributeError\u001b[0m: 'NoneType' object has no attribute 'next'"
          ]
        }
      ]
    },
    {
      "metadata": {
        "id": "lMtfs1ulP028",
        "colab_type": "text"
      },
      "source": [
        "如果涉及“是否存在 exists”“唯一性 unique”那么就用 set"
      ],
      "cell_type": "markdown"
    },
    {
      "metadata": {
        "id": "fDSvKo44QUGL",
        "colab_type": "code",
        "colab": {
          "autoexec": {
            "startup": false,
            "wait_interval": 0
          }
        }
      },
      "source": [
        "$1 -> *$3 -> $4 -> $5\n",
        "\n",
        "if $3.next.val already occured: \n",
        "  $3.next = $3.next.next # 保证 $3.next is not None and $3 is not None"
      ],
      "cell_type": "code",
      "execution_count": 0,
      "outputs": []
    },
    {
      "metadata": {
        "id": "n_mHYsLWP7hQ",
        "colab_type": "code",
        "colab": {
          "autoexec": {
            "startup": false,
            "wait_interval": 0
          }
        }
      },
      "source": [
        "def remove_duplicate(head): \n",
        "    if not head:  # head is None, head = \"\", head = 0, head = []\n",
        "      return\n",
        "    \n",
        "    cur_pos = head\n",
        "    val_pool = []\n",
        "    val_pool.append(head.val)\n",
        "    \n",
        "    while cur_pos and cur_pos.next:\n",
        "      if cur_pos.next.val in val_pool:\n",
        "        cur_pos.next = cur_pos.next.next\n",
        "      else:\n",
        "        val_pool.append(cur_pos.next.val)\n",
        "        cur_pos = cur_pos.next"
      ],
      "cell_type": "code",
      "execution_count": 0,
      "outputs": []
    },
    {
      "metadata": {
        "id": "g2HXnOSaUJW4",
        "colab_type": "code",
        "colab": {
          "autoexec": {
            "startup": false,
            "wait_interval": 0
          },
          "output_extras": [
            {
              "item_id": 1
            }
          ],
          "base_uri": "https://localhost:8080/",
          "height": 392
        },
        "outputId": "a5e4855c-a2d0-4a48-d963-aa3658f1e14b",
        "executionInfo": {
          "status": "ok",
          "timestamp": 1513746434044,
          "user_tz": 480,
          "elapsed": 350,
          "user": {
            "displayName": "Gates Wang",
            "photoUrl": "//lh3.googleusercontent.com/-KJIi3nG-HfM/AAAAAAAAAAI/AAAAAAAABUA/fwKObPJyTcU/s50-c-k-no/photo.jpg",
            "userId": "101570225592032648825"
          }
        }
      },
      "source": [
        "a = ListNode(5)\n",
        "cur = a\n",
        "for i in range(10):\n",
        "  cur.next = ListNode(i)\n",
        "  cur = cur.next\n",
        "\n",
        "cur = a\n",
        "while cur:\n",
        "  print(cur.val, \" -> \")\n",
        "  cur = cur.next\n",
        "\n",
        "remove_duplicate(a)\n",
        "\n",
        "print(\"=======================\")\n",
        "cur = a\n",
        "while cur:\n",
        "  print(cur.val, \" -> \")\n",
        "  cur = cur.next"
      ],
      "cell_type": "code",
      "execution_count": 31,
      "outputs": [
        {
          "output_type": "stream",
          "text": [
            "5  -> \n",
            "0  -> \n",
            "1  -> \n",
            "2  -> \n",
            "3  -> \n",
            "4  -> \n",
            "5  -> \n",
            "6  -> \n",
            "7  -> \n",
            "8  -> \n",
            "9  -> \n",
            "=======================\n",
            "5  -> \n",
            "0  -> \n",
            "1  -> \n",
            "2  -> \n",
            "3  -> \n",
            "4  -> \n",
            "6  -> \n",
            "7  -> \n",
            "8  -> \n",
            "9  -> \n"
          ],
          "name": "stdout"
        }
      ]
    },
    {
      "metadata": {
        "id": "MHfrOuV1UhCg",
        "colab_type": "code",
        "colab": {
          "autoexec": {
            "startup": false,
            "wait_interval": 0
          },
          "output_extras": [
            {
              "item_id": 1
            }
          ],
          "base_uri": "https://localhost:8080/",
          "height": 35
        },
        "outputId": "99555b8e-0ddf-4458-f0f9-dd75af857671",
        "executionInfo": {
          "status": "ok",
          "timestamp": 1513746496561,
          "user_tz": 480,
          "elapsed": 314,
          "user": {
            "displayName": "Gates Wang",
            "photoUrl": "//lh3.googleusercontent.com/-KJIi3nG-HfM/AAAAAAAAAAI/AAAAAAAABUA/fwKObPJyTcU/s50-c-k-no/photo.jpg",
            "userId": "101570225592032648825"
          }
        }
      },
      "source": [
        "a = {}\n",
        "a[\"Apple\"] = 3\n",
        "a[\"Bear\"] = 5\n",
        "\n",
        "print(a)"
      ],
      "cell_type": "code",
      "execution_count": 32,
      "outputs": [
        {
          "output_type": "stream",
          "text": [
            "{'Apple': 3, 'Bear': 5}\n"
          ],
          "name": "stdout"
        }
      ]
    },
    {
      "metadata": {
        "id": "Xv6XF_a1UwKU",
        "colab_type": "code",
        "colab": {
          "autoexec": {
            "startup": false,
            "wait_interval": 0
          },
          "output_extras": [
            {
              "item_id": 1
            }
          ],
          "base_uri": "https://localhost:8080/",
          "height": 52
        },
        "outputId": "a75c3a66-53c0-4520-f83d-0feb65f5756c",
        "executionInfo": {
          "status": "ok",
          "timestamp": 1513746817540,
          "user_tz": 480,
          "elapsed": 282,
          "user": {
            "displayName": "Gates Wang",
            "photoUrl": "//lh3.googleusercontent.com/-KJIi3nG-HfM/AAAAAAAAAAI/AAAAAAAABUA/fwKObPJyTcU/s50-c-k-no/photo.jpg",
            "userId": "101570225592032648825"
          }
        }
      },
      "source": [
        "numbers = [2,3,4,5,3,4,5,6,7,4,5,7,8,9,3,5,7]\n",
        "\n",
        "def find_most_occurance(numbers):\n",
        "  counts = {}\n",
        "  \n",
        "  for n in numbers:\n",
        "    if n not in counts:\n",
        "      counts[n] = 1\n",
        "    else:\n",
        "      counts[n] += 1\n",
        "    \n",
        "  print(counts)\n",
        "  \n",
        "  maxn, maxocc = None, None\n",
        "  for n, occurs in counts.items():\n",
        "    if not maxn or occurs > maxocc:\n",
        "      maxn, maxocc = n, occurs\n",
        "  \n",
        "  return maxn\n",
        "\n",
        "\n",
        "print(find_most_occurance(numbers))\n",
        "      "
      ],
      "cell_type": "code",
      "execution_count": 34,
      "outputs": [
        {
          "output_type": "stream",
          "text": [
            "{2: 1, 3: 3, 4: 3, 5: 4, 6: 1, 7: 3, 8: 1, 9: 1}\n",
            "5\n"
          ],
          "name": "stdout"
        }
      ]
    }
  ]
}